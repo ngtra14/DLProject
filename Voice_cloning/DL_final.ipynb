{
 "cells": [
  {
   "cell_type": "markdown",
   "id": "6f33c9c2",
   "metadata": {},
   "source": [
    "The goal of this project is to learn an effective speaker embedding for voice/audio clip using either transfer learning or one shot learning "
   ]
  }
 ],
 "metadata": {
  "language_info": {
   "name": "python"
  }
 },
 "nbformat": 4,
 "nbformat_minor": 5
}
