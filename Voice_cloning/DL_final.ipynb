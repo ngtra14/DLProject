{
 "cells": [
  {
   "cell_type": "markdown",
   "id": "6f33c9c2",
   "metadata": {},
   "source": [
    "The goal of this project is to learn an effective speaker embedding for voice/audio clip using either transfer learning or one shot learning "
   ]
  },
  {
   "cell_type": "code",
   "execution_count": null,
   "id": "98989159",
   "metadata": {},
   "outputs": [],
   "source": [
    "import numpy as np "
   ]
  }
 ],
 "metadata": {
  "kernelspec": {
   "display_name": "test1",
   "language": "python",
   "name": "python3"
  },
  "language_info": {
   "name": "python",
   "version": "3.11.0"
  }
 },
 "nbformat": 4,
 "nbformat_minor": 5
}
