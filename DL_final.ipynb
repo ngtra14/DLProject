{
 "cells": [
  {
   "cell_type": "markdown",
   "id": "6f33c9c2",
   "metadata": {},
   "source": [
    "The goal of this project is to learn an effective speaker embedding for voice/audio clip using either transfer learning or one shot learning "
   ]
  },
  {
   "cell_type": "code",
   "execution_count": 1,
   "id": "98989159",
   "metadata": {},
   "outputs": [
    {
     "name": "stderr",
     "output_type": "stream",
     "text": [
      "/home/ngtra14/myenv/lib/python3.10/site-packages/tqdm/auto.py:21: TqdmWarning: IProgress not found. Please update jupyter and ipywidgets. See https://ipywidgets.readthedocs.io/en/stable/user_install.html\n",
      "  from .autonotebook import tqdm as notebook_tqdm\n"
     ]
    }
   ],
   "source": [
    "from datasets import load_dataset"
   ]
  },
  {
   "cell_type": "code",
   "execution_count": 1,
   "id": "38f6c30a",
   "metadata": {},
   "outputs": [],
   "source": [
    "from TTS.utils.downloaders import download_vctk"
   ]
  },
  {
   "cell_type": "code",
   "execution_count": null,
   "id": "71593882",
   "metadata": {},
   "outputs": [
    {
     "name": "stderr",
     "output_type": "stream",
     "text": [
      "100%|██████████| 10.9G/10.9G [3:12:48<00:00, 1.02MB/s]   \n"
     ]
    },
    {
     "name": "stdout",
     "output_type": "stream",
     "text": [
      " > Extracting archive file...\n"
     ]
    }
   ],
   "source": [
    "import os\n",
    "from TTS.utils.downloaders import download_vctk\n",
    "\n",
    "output_path = os.getcwd()\n",
    "dataset_path = os.path.join(output_path, \"../VCTK/\")\n",
    "\n",
    "download_vctk(dataset_path)"
   ]
  },
  {
   "cell_type": "code",
   "execution_count": 2,
   "id": "63dcca31",
   "metadata": {},
   "outputs": [],
   "source": [
    "from audio import preprocess_wav"
   ]
  },
  {
   "cell_type": "code",
   "execution_count": 9,
   "id": "9295f6e6",
   "metadata": {},
   "outputs": [
    {
     "data": {
      "text/plain": [
       "(160, 40)"
      ]
     },
     "execution_count": 9,
     "metadata": {},
     "output_type": "execute_result"
    }
   ],
   "source": [
    "load_array = np.load(\"/home/ngtra14/DLProject/VCTK/encoder/VCTK_wav48_silence_trimmed_p225/p225_001_mic1.npy\")\n",
    "load_array\n",
    "load_array.shape"
   ]
  },
  {
   "cell_type": "code",
   "execution_count": 7,
   "id": "95d9a848",
   "metadata": {},
   "outputs": [],
   "source": [
    "import numpy as np"
   ]
  },
  {
   "cell_type": "code",
   "execution_count": null,
   "id": "797a9a0d",
   "metadata": {},
   "outputs": [],
   "source": []
  }
 ],
 "metadata": {
  "kernelspec": {
   "display_name": "myenv",
   "language": "python",
   "name": "python3"
  },
  "language_info": {
   "codemirror_mode": {
    "name": "ipython",
    "version": 3
   },
   "file_extension": ".py",
   "mimetype": "text/x-python",
   "name": "python",
   "nbconvert_exporter": "python",
   "pygments_lexer": "ipython3",
   "version": "3.10.12"
  }
 },
 "nbformat": 4,
 "nbformat_minor": 5
}
